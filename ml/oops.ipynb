{
 "cells": [
  {
   "cell_type": "markdown",
   "metadata": {},
   "source": [
    "## ***1. Encapsulation***\n",
    "Definition: Encapsulation is the bundling of data (variables) and methods that operate on that data into a single unit (class). It also restricts direct access to some data to prevent accidental modification.\n",
    "\n",
    "Example of Encapsulation"
   ]
  },
  {
   "cell_type": "code",
   "execution_count": null,
   "metadata": {},
   "outputs": [
    {
     "name": "stdout",
     "output_type": "stream",
     "text": [
      "1500\n",
      "1500\n"
     ]
    },
    {
     "ename": "AttributeError",
     "evalue": "'BankAccount' object has no attribute '__balance'",
     "output_type": "error",
     "traceback": [
      "\u001b[1;31m---------------------------------------------------------------------------\u001b[0m",
      "\u001b[1;31mAttributeError\u001b[0m                            Traceback (most recent call last)",
      "Cell \u001b[1;32mIn[9], line 22\u001b[0m\n\u001b[0;32m     20\u001b[0m \u001b[38;5;28mprint\u001b[39m(account\u001b[38;5;241m.\u001b[39mget_balance())  \u001b[38;5;66;03m# Output: 1500\u001b[39;00m\n\u001b[0;32m     21\u001b[0m \u001b[38;5;28mprint\u001b[39m(account\u001b[38;5;241m.\u001b[39m_BankAccount__balance) \n\u001b[1;32m---> 22\u001b[0m \u001b[38;5;28mprint\u001b[39m(account\u001b[38;5;241m.\u001b[39m__balance)\n",
      "\u001b[1;31mAttributeError\u001b[0m: 'BankAccount' object has no attribute '__balance'"
     ]
    }
   ],
   "source": [
    "class BankAccount:\n",
    "    def __init__(self, balance):\n",
    "        self.__balance = balance  # Private attribute (using __)\n",
    "\n",
    "    def deposit(self, amount):\n",
    "        self.__balance += amount\n",
    "\n",
    "    def withdraw(self, amount):\n",
    "        if amount <= self.__balance:\n",
    "            self.__balance -= amount\n",
    "        else:\n",
    "            print(\"Insufficient funds!\")\n",
    "\n",
    "    def get_balance(self):\n",
    "        return self.__balance  # Controlled access to private variable\n",
    "\n",
    "# Creating an object\n",
    "account = BankAccount(1000)\n",
    "account.deposit(500)\n",
    "print(account.get_balance())  # Output: 1500\n",
    " \n",
    "print(account.__balance) \n",
    "\n",
    "\n"
   ]
  },
  {
   "cell_type": "markdown",
   "metadata": {},
   "source": [
    "Encapsulation Benefits:\n",
    "> Prevents direct modification of sensitive data (__balance is private).\n",
    "\n",
    "> Provides controlled access through getter and setter methods."
   ]
  },
  {
   "cell_type": "markdown",
   "metadata": {},
   "source": [
    "## ***2. Inheritance***\n",
    "Definition: Inheritance allows a class to inherit properties and methods from another class, promoting code reusability.\n",
    "\n",
    "Example of Inheritance"
   ]
  },
  {
   "cell_type": "code",
   "execution_count": 3,
   "metadata": {},
   "outputs": [
    {
     "name": "stdout",
     "output_type": "stream",
     "text": [
      "Buddy says Bark\n",
      "Whiskers says Meow\n"
     ]
    }
   ],
   "source": [
    "class Animal:  # Parent class\n",
    "    def __init__(self, name):\n",
    "        self.name = name\n",
    "\n",
    "    def make_sound(self):\n",
    "        return \"Some sound\"\n",
    "\n",
    "class Dog(Animal):  # Child class\n",
    "    def make_sound(self):\n",
    "        return \"Bark\"\n",
    "\n",
    "class Cat(Animal):  # Another child class\n",
    "    def make_sound(self):\n",
    "        return \"Meow\"\n",
    "\n",
    "# Creating objects\n",
    "dog = Dog(\"Buddy\")\n",
    "cat = Cat(\"Whiskers\")\n",
    "\n",
    "print(dog.name, \"says\", dog.make_sound())  # Output: Buddy says Bark\n",
    "print(cat.name, \"says\", cat.make_sound())  # Output: Whiskers says Meow\n"
   ]
  },
  {
   "cell_type": "markdown",
   "metadata": {},
   "source": [
    "Inheritance Benefits:\n",
    "> Code Reusability: The child class reuses the parent class’s code.\n",
    "\n",
    "> Avoids Duplication: Common functionality is written once in the parent class."
   ]
  },
  {
   "cell_type": "markdown",
   "metadata": {},
   "source": [
    "## ***3. Polymorphism***\n",
    "Definition: Polymorphism allows different classes to have methods with the same name but different implementations.\n",
    "\n",
    "Example of Polymorphism"
   ]
  },
  {
   "cell_type": "code",
   "execution_count": 4,
   "metadata": {},
   "outputs": [
    {
     "name": "stdout",
     "output_type": "stream",
     "text": [
      "Sparrow flies high\n",
      "Penguins cannot fly\n"
     ]
    }
   ],
   "source": [
    "class Bird:\n",
    "    def fly(self):\n",
    "        return \"Some birds can fly\"\n",
    "\n",
    "class Sparrow(Bird):\n",
    "    def fly(self):\n",
    "        return \"Sparrow flies high\"\n",
    "\n",
    "class Penguin(Bird):\n",
    "    def fly(self):\n",
    "        return \"Penguins cannot fly\"\n",
    "\n",
    "# Using polymorphism\n",
    "birds = [Sparrow(), Penguin()]\n",
    "for bird in birds:\n",
    "    print(bird.fly())\n"
   ]
  },
  {
   "cell_type": "markdown",
   "metadata": {},
   "source": [
    "Polymorphism Benefits:\n",
    "> Flexibility: Methods can be overridden in subclasses.\n",
    "\n",
    "> Easier Code Management: You can handle multiple object types through a common interface."
   ]
  },
  {
   "cell_type": "markdown",
   "metadata": {},
   "source": [
    "## ***4. Abstraction***\n",
    "Definition: Abstraction hides implementation details and only shows essential features. It is achieved using abstract classes in Python.\n",
    "\n",
    "Example of Abstraction"
   ]
  },
  {
   "cell_type": "code",
   "execution_count": 5,
   "metadata": {},
   "outputs": [
    {
     "name": "stdout",
     "output_type": "stream",
     "text": [
      "50\n"
     ]
    }
   ],
   "source": [
    "from abc import ABC, abstractmethod\n",
    "\n",
    "class Shape(ABC):  # Abstract class\n",
    "    @abstractmethod\n",
    "    def area(self):\n",
    "        pass  # No implementation\n",
    "\n",
    "    @abstractmethod\n",
    "    def perimeter(self):\n",
    "        pass\n",
    "\n",
    "class Rectangle(Shape):\n",
    "    def __init__(self, width, height):\n",
    "        self.width = width\n",
    "        self.height = height\n",
    "\n",
    "    def area(self):\n",
    "        return self.width * self.height\n",
    "\n",
    "    def perimeter(self):\n",
    "        return 2 * (self.width + self.height)\n",
    "\n",
    "# rect = Shape()  # ❌ Cannot instantiate abstract class\n",
    "rect = Rectangle(10, 5)\n",
    "print(rect.area())  # Output: 50\n"
   ]
  },
  {
   "cell_type": "markdown",
   "metadata": {},
   "source": [
    "Abstraction Benefits:\n",
    "> Hides unnecessary details from users.\n",
    "\n",
    "> Provides a template for child classes."
   ]
  },
  {
   "cell_type": "code",
   "execution_count": null,
   "metadata": {},
   "outputs": [],
   "source": [
    "[-4,-1,-1,0,1,2]"
   ]
  }
 ],
 "metadata": {
  "kernelspec": {
   "display_name": "base",
   "language": "python",
   "name": "python3"
  },
  "language_info": {
   "codemirror_mode": {
    "name": "ipython",
    "version": 3
   },
   "file_extension": ".py",
   "mimetype": "text/x-python",
   "name": "python",
   "nbconvert_exporter": "python",
   "pygments_lexer": "ipython3",
   "version": "3.12.4"
  }
 },
 "nbformat": 4,
 "nbformat_minor": 2
}
