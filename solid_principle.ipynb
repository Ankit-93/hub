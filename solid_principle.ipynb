{
 "cells": [
  {
   "cell_type": "markdown",
   "metadata": {},
   "source": [
    "# ***................................................SOLID Principles...........................................***"
   ]
  },
  {
   "cell_type": "markdown",
   "metadata": {},
   "source": [
    "## *Single Responsibility*"
   ]
  },
  {
   "cell_type": "code",
   "execution_count": 1,
   "metadata": {},
   "outputs": [],
   "source": [
    "class UserManager:\n",
    "    def authenticate_user(self, username, password):\n",
    "        # Authentication Logic\n",
    "        pass\n",
    "    \n",
    "    def update_user_profile(self,user_id, new_data):\n",
    "        # Updation Logic\n",
    "        pass\n",
    "\n",
    "    def send_email_notificaton(self,user_email, message):\n",
    "        # Email Sending Logic\n",
    "        pass\n",
    "\n",
    "### Instead of doing above do the below:\n",
    "\n",
    "class UserAuthenticator:\n",
    "    def authenticate_user(self, username, password):\n",
    "        # Authentication Logic\n",
    "        pass\n",
    "\n",
    "class UpdateProfile:\n",
    "    def update_user_profile(self,user_id, new_data):\n",
    "        # Updation Logic\n",
    "        pass\n",
    "class SendEmail:\n",
    "    def send_email_notificaton(self,user_email, message):\n",
    "        # Email Sending Logic\n",
    "        pass\n",
    "\n",
    "# Now, each class has a single, well-defined responsibility. Changes to user authentication \n",
    "# won't affect the email notification logic,and vice versa, improving maintainability and \n",
    "# reducing the risk of unintended side effects."
   ]
  },
  {
   "cell_type": "markdown",
   "metadata": {},
   "source": [
    "## *Open/Closed Principle*"
   ]
  },
  {
   "cell_type": "code",
   "execution_count": 2,
   "metadata": {},
   "outputs": [
    {
     "name": "stdout",
     "output_type": "stream",
     "text": [
      "Rectangle Area: 50\n",
      "Rectangle Perimeter: 30\n",
      "Circle Area: 153.86\n",
      "Circle Perimeter: 43.96\n",
      "Triangle Area: 6.0\n",
      "Triangle Perimeter: 12\n"
     ]
    }
   ],
   "source": [
    "class Shape:\n",
    "    def __init__(self, type, width=None, height=None, radius=None):\n",
    "        self.type = type\n",
    "        self.width = width\n",
    "        self.height = height\n",
    "        self.radius = radius\n",
    "\n",
    "class ShapeCalculator:\n",
    "    def calculate_area(self, shape):\n",
    "        if shape.type == \"rectangle\":\n",
    "            return shape.width * shape.height\n",
    "        elif shape.type == \"circle\":\n",
    "            return 3.14 * (shape.radius ** 2)\n",
    "\n",
    "    def calculate_perimeter(self, shape):\n",
    "        if shape.type == \"rectangle\":\n",
    "            return 2 * (shape.width + shape.height)\n",
    "        elif shape.type == \"circle\":\n",
    "            return 2 * 3.14 * shape.radius\n",
    "\n",
    "# # Test cases\n",
    "# calculator = ShapeCalculator()\n",
    "\n",
    "# # Rectangle test\n",
    "# rectangle = Shape(type=\"rectangle\", width=5, height=10)\n",
    "# print(\"Rectangle Area:\", calculator.calculate_area(rectangle))  # Expected: 50\n",
    "# print(\"Rectangle Perimeter:\", calculator.calculate_perimeter(rectangle))  # Expected: 30\n",
    "\n",
    "'''If we want to add support for a new shape, like a triangle, we would have to modify the calculate_area \n",
    "   and calculate_perimeter methods, violating the Open/Closed Principle.\n",
    "\n",
    "   To adhere to the OCP, we can create an abstract base class for shapes and separate concrete classes for \n",
    "   each shape type\n",
    "'''\n",
    "from abc import ABC, abstractmethod\n",
    "\n",
    "class Shape(ABC):\n",
    "    @abstractmethod\n",
    "    def calculate_area(self):\n",
    "        pass\n",
    "    \n",
    "    @abstractmethod\n",
    "    def calculate_perimeter(self):\n",
    "        pass\n",
    "\n",
    "class Rectangle(Shape):\n",
    "    def __init__(self, width, height):\n",
    "        self.width = width\n",
    "        self.height = height\n",
    "\n",
    "    def calculate_area(self):\n",
    "        return self.width * self.height\n",
    "\n",
    "    def calculate_perimeter(self):\n",
    "        return 2 * (self.width + self.height)\n",
    "\n",
    "class Circle(Shape):\n",
    "    def __init__(self, radius):\n",
    "        self.radius = radius\n",
    "\n",
    "    def calculate_area(self):\n",
    "        return 3.14 * (self.radius ** 2)\n",
    "\n",
    "    def calculate_perimeter(self):\n",
    "        return 2 * 3.14 * self.radius\n",
    "\n",
    "# Added Triangle class with proper implementation\n",
    "class Triangle(Shape):\n",
    "    def __init__(self, side1, side2, side3):\n",
    "        self.side1 = side1\n",
    "        self.side2 = side2\n",
    "        self.side3 = side3\n",
    "\n",
    "    def calculate_area(self):\n",
    "        # Using Heron's formula\n",
    "        s = (self.side1 + self.side2 + self.side3) / 2\n",
    "        return (s * (s - self.side1) * (s - self.side2) * (s - self.side3)) ** 0.5\n",
    "\n",
    "    def calculate_perimeter(self):\n",
    "        return self.side1 + self.side2 + self.side3\n",
    "\n",
    "# Test cases\n",
    "rectangle = Rectangle(5, 10)\n",
    "print(\"Rectangle Area:\", rectangle.calculate_area())  # Expected: 50\n",
    "print(\"Rectangle Perimeter:\", rectangle.calculate_perimeter())  # Expected: 30\n",
    "\n",
    "circle = Circle(7)\n",
    "print(\"Circle Area:\", circle.calculate_area())  # Expected: 153.86\n",
    "print(\"Circle Perimeter:\", circle.calculate_perimeter())  # Expected: 43.96\n",
    "\n",
    "triangle = Triangle(3, 4, 5)\n",
    "print(\"Triangle Area:\", triangle.calculate_area())  # Expected: 6.0 (Using Heron's formula)\n",
    "print(\"Triangle Perimeter:\", triangle.calculate_perimeter())  # Expected: 12\n"
   ]
  },
  {
   "cell_type": "markdown",
   "metadata": {},
   "source": [
    "*** \n",
    "By introducing an abstraction (Shape class) and separating the concrete implementations (Rectangle and Circle classes), \n",
    "we can add new shapes without modifying the existing code.\n",
    "The ShapeCalculator class can now work with any shape that implements the Shape interface, allowing for easy extensibility.\n",
    "***"
   ]
  },
  {
   "cell_type": "markdown",
   "metadata": {},
   "source": [
    "## *Liskov Substitution Principle (LSP)*"
   ]
  },
  {
   "cell_type": "markdown",
   "metadata": {},
   "source": [
    "***\n",
    "This means if you have a base class and a derived class, you should be able to use instances of the derived class wherever instances of the base class are expected, without breaking the application.\n",
    "***"
   ]
  },
  {
   "cell_type": "code",
   "execution_count": 3,
   "metadata": {},
   "outputs": [
    {
     "name": "stdout",
     "output_type": "stream",
     "text": [
      "Starting the car engine...\n",
      "Pedaling the bicycle...\n"
     ]
    }
   ],
   "source": [
    "class Vehicle:\n",
    "    def start_engine(self):\n",
    "        pass  # Base implementation (can be overridden)\n",
    "\n",
    "class Car(Vehicle):\n",
    "    def start_engine(self):\n",
    "        print(\"Starting the car engine...\")\n",
    "\n",
    "class Bicycle(Vehicle):\n",
    "    def start_engine(self):\n",
    "        raise NotImplementedError(\"Bicycles don't have engines\")\n",
    "    \n",
    "'''\n",
    "In this example, the Bicycle class violates the LSP because it provides an implementation for the start_engine method,\n",
    "which doesn't make sense for a bicycle.\n",
    "If we try to substitute a Bicycle instance where a Vehicle instance is expected, it might lead to unexpected behavior or errors.\n",
    "To adhere to the LSP, we can restructure the code as follows:'\n",
    "'''\n",
    "\n",
    "from abc import ABC, abstractmethod\n",
    "\n",
    "class Vehicle(ABC):\n",
    "    @abstractmethod\n",
    "    def start(self):\n",
    "        pass\n",
    "\n",
    "class Car(Vehicle):\n",
    "    def start(self):\n",
    "        print(\"Starting the car engine...\")\n",
    "\n",
    "class Bicycle(Vehicle):\n",
    "    def start(self):\n",
    "        print(\"Pedaling the bicycle...\")\n",
    "\n",
    "# Test the classes\n",
    "if __name__ == \"__main__\":\n",
    "    car = Car()\n",
    "    car.start()  # Output: Starting the car engine...\n",
    "    \n",
    "    bike = Bicycle()\n",
    "    bike.start()  # Output: Pedaling the bicycle..."
   ]
  },
  {
   "cell_type": "markdown",
   "metadata": {},
   "source": [
    "## *Interface Segregation Principle*"
   ]
  },
  {
   "cell_type": "markdown",
   "metadata": {},
   "source": [
    "***\n",
    "The main idea behind ISP is to prevent the creation of \"fat\" or \"bloated\" interfaces that include methods that are not required by all clients.\n",
    "\n",
    "By segregating interfaces into smaller, more specific ones, clients only depend on the methods they actually need, promoting loose coupling and better code organization.\n",
    "***"
   ]
  },
  {
   "cell_type": "code",
   "execution_count": 4,
   "metadata": {},
   "outputs": [],
   "source": [
    "class Worker:\n",
    "    def work(self):\n",
    "        pass\n",
    "\n",
    "    def eat(self):\n",
    "        pass\n",
    "\n",
    "class Robot(Worker):\n",
    "    def work(self):\n",
    "        print(\"Robot is working\")\n",
    "\n",
    "    def eat(self):\n",
    "        raise Exception(\"Robots don’t eat!\")\n",
    "\n",
    "\n",
    "'''Clients should not be forced to depend on interfaces they do not use.\n",
    "\n",
    "Explanation: A class should only implement methods that are relevant to it. Instead of having a single large \n",
    "interface, break it into smaller, more specific ones.'''\n",
    "\n",
    "class Workable:\n",
    "    def work(self):\n",
    "        pass\n",
    "\n",
    "class Eatable:\n",
    "    def eat(self):\n",
    "        pass\n",
    "\n",
    "class Human(Workable, Eatable):\n",
    "    def work(self):\n",
    "        print(\"Human is working\")\n",
    "\n",
    "    def eat(self):\n",
    "        print(\"Human is eating\")\n",
    "\n",
    "class Robot(Workable):\n",
    "    def work(self):\n",
    "        print(\"Robot is working\")\n",
    "\n",
    "# Now, Robot only implements work(), while Human can do both."
   ]
  },
  {
   "cell_type": "markdown",
   "metadata": {},
   "source": [
    "## *Dependency Inversion Principle*"
   ]
  },
  {
   "cell_type": "markdown",
   "metadata": {},
   "source": [
    "***\n",
    "This means that a particular class should not depend directly on another class, but on an abstraction (interface) of this class.\n",
    "\n",
    "Applying this principle reduces dependency on specific implementations and makes our code more reusable.\n",
    "\n",
    "Code Example:\n",
    "Let's consider a example where we have a EmailService class that sends emails using a specific email provider (e.g., Gmail).\n",
    "***"
   ]
  },
  {
   "cell_type": "code",
   "execution_count": 5,
   "metadata": {},
   "outputs": [
    {
     "name": "stdout",
     "output_type": "stream",
     "text": [
      "Sending via Gmail to user1@example.com: [Hello] This is from Gmail!\n",
      "Sending via Outlook to user2@example.com: [Meeting] This is from Outlook!\n",
      "[TEST] Would send to test@example.com: Test\n"
     ]
    }
   ],
   "source": [
    "class GmailClient:\n",
    "    def send_email(self, recipient, subject, body):\n",
    "        print(f\"Sending via Gmail to {recipient}: [{subject}] {body}\")\n",
    "        # Actual Gmail API integration here\n",
    "\n",
    "# Service class with dependency injection\n",
    "class EmailService:\n",
    "    def __init__(self):\n",
    "        self.gmail_client = GmailClient()\n",
    "\n",
    "    def send_email(self, recipient, subject, body):\n",
    "        self.gmail_client.send_email(recipient, subject, body)\n",
    "'''In this example, the EmailService class directly depends on the GmailClient class, a low-level module that implements the details \n",
    "of sending emails using the Gmail API.\n",
    "\n",
    "This violates the DIP because the high-level EmailService module is tightly coupled to the low-level GmailClient module.\n",
    "\n",
    "To adhere to the DIP, we can introduce an abstraction (interface) for email clients:'''\n",
    "\n",
    "\n",
    "from abc import ABC, abstractmethod\n",
    "\n",
    "# Abstract interface\n",
    "class EmailClient(ABC):\n",
    "    @abstractmethod\n",
    "    def send_email(self, recipient, subject, body):\n",
    "        pass\n",
    "\n",
    "# Concrete implementations\n",
    "class GmailClient(EmailClient):\n",
    "    def send_email(self, recipient, subject, body):\n",
    "        print(f\"Sending via Gmail to {recipient}: [{subject}] {body}\")\n",
    "        # Actual Gmail API integration here\n",
    "\n",
    "class OutlookClient(EmailClient):\n",
    "    def send_email(self, recipient, subject, body):\n",
    "        print(f\"Sending via Outlook to {recipient}: [{subject}] {body}\")\n",
    "        # Actual Outlook API integration here\n",
    "\n",
    "# Service class with dependency injection\n",
    "class EmailService:\n",
    "    def __init__(self, email_client: EmailClient):\n",
    "        self.email_client = email_client\n",
    "\n",
    "    def send_email(self, recipient, subject, body):\n",
    "        self.email_client.send_email(recipient, subject, body)\n",
    "\n",
    "# Usage examples\n",
    "if __name__ == \"__main__\":\n",
    "    # Create clients\n",
    "    gmail = GmailClient()\n",
    "    outlook = OutlookClient()\n",
    "\n",
    "    # Create services with different providers\n",
    "    gmail_service = EmailService(gmail)\n",
    "    outlook_service = EmailService(outlook)\n",
    "\n",
    "    # Send emails through different services\n",
    "    gmail_service.send_email(\"user1@example.com\", \"Hello\", \"This is from Gmail!\")\n",
    "    outlook_service.send_email(\"user2@example.com\", \"Meeting\", \"This is from Outlook!\")\n",
    "\n",
    "    # Test with a mock client\n",
    "    class TestClient(EmailClient):\n",
    "        def send_email(self, recipient, subject, body):\n",
    "            print(f\"[TEST] Would send to {recipient}: {subject}\")\n",
    "\n",
    "    test_service = EmailService(TestClient())\n",
    "    test_service.send_email(\"test@example.com\", \"Test\", \"Testing email system\")"
   ]
  }
 ],
 "metadata": {
  "kernelspec": {
   "display_name": "base",
   "language": "python",
   "name": "python3"
  },
  "language_info": {
   "codemirror_mode": {
    "name": "ipython",
    "version": 3
   },
   "file_extension": ".py",
   "mimetype": "text/x-python",
   "name": "python",
   "nbconvert_exporter": "python",
   "pygments_lexer": "ipython3",
   "version": "3.12.4"
  }
 },
 "nbformat": 4,
 "nbformat_minor": 2
}
